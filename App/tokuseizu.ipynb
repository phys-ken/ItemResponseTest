{
 "metadata": {
  "language_info": {
   "codemirror_mode": {
    "name": "ipython",
    "version": 3
   },
   "file_extension": ".py",
   "mimetype": "text/x-python",
   "name": "python",
   "nbconvert_exporter": "python",
   "pygments_lexer": "ipython3",
   "version": "3.9.2"
  },
  "orig_nbformat": 2,
  "kernelspec": {
   "name": "python392jvsc74a57bd0aee8b7b246df8f9039afb4144a1f6fd8d2ca17a180786b69acc140d282b71a49",
   "display_name": "Python 3.9.2 64-bit"
  },
  "metadata": {
   "interpreter": {
    "hash": "aee8b7b246df8f9039afb4144a1f6fd8d2ca17a180786b69acc140d282b71a49"
   }
  }
 },
 "nbformat": 4,
 "nbformat_minor": 2,
 "cells": [
  {
   "cell_type": "code",
   "execution_count": 15,
   "metadata": {},
   "outputs": [
    {
     "output_type": "stream",
     "name": "stdout",
     "text": [
      "Requirement already satisfied: openpyxl in /usr/local/lib/python3.9/site-packages (3.0.7)\n",
      "Requirement already satisfied: et-xmlfile in /usr/local/lib/python3.9/site-packages (from openpyxl) (1.1.0)\n",
      "\u001b[33mWARNING: You are using pip version 21.1.1; however, version 21.1.2 is available.\n",
      "You should consider upgrading via the '/usr/local/opt/python@3.9/bin/python3.9 -m pip install --upgrade pip' command.\u001b[0m\n",
      "Requirement already satisfied: xlrd in /usr/local/lib/python3.9/site-packages (2.0.1)\n",
      "\u001b[33mWARNING: You are using pip version 21.1.1; however, version 21.1.2 is available.\n",
      "You should consider upgrading via the '/usr/local/opt/python@3.9/bin/python3.9 -m pip install --upgrade pip' command.\u001b[0m\n",
      "Collecting pandas\n",
      "  Downloading pandas-1.2.4-cp39-cp39-macosx_10_9_x86_64.whl (10.7 MB)\n",
      "\u001b[K     |████████████████████████████████| 10.7 MB 1.5 MB/s \n",
      "\u001b[?25hCollecting pytz>=2017.3\n",
      "  Downloading pytz-2021.1-py2.py3-none-any.whl (510 kB)\n",
      "\u001b[K     |████████████████████████████████| 510 kB 1.2 MB/s \n",
      "\u001b[?25hRequirement already satisfied: numpy>=1.16.5 in /usr/local/lib/python3.9/site-packages (from pandas) (1.20.3)\n",
      "Requirement already satisfied: python-dateutil>=2.7.3 in /Users/nagakurakenya/Library/Python/3.9/lib/python/site-packages (from pandas) (2.8.1)\n",
      "Requirement already satisfied: six>=1.5 in /Users/nagakurakenya/Library/Python/3.9/lib/python/site-packages (from python-dateutil>=2.7.3->pandas) (1.16.0)\n",
      "Installing collected packages: pytz, pandas\n",
      "Successfully installed pandas-1.2.4 pytz-2021.1\n",
      "\u001b[33mWARNING: You are using pip version 21.1.1; however, version 21.1.2 is available.\n",
      "You should consider upgrading via the '/usr/local/opt/python@3.9/bin/python3.9 -m pip install --upgrade pip' command.\u001b[0m\n"
     ]
    }
   ],
   "source": [
    "! pip3.9 install openpyxl\n",
    "! pip3.9 install xlrd\n",
    "! pip3.9 install pandas"
   ]
  },
  {
   "cell_type": "code",
   "execution_count": 87,
   "metadata": {},
   "outputs": [],
   "source": [
    "import matplotlib.pyplot as plt\n",
    "%matplotlib inline\n",
    "import pandas as pd"
   ]
  },
  {
   "cell_type": "code",
   "execution_count": 125,
   "metadata": {},
   "outputs": [
    {
     "output_type": "stream",
     "name": "stderr",
     "text": [
      "/usr/local/lib/python3.9/site-packages/openpyxl/worksheet/_reader.py:312: UserWarning: Data Validation extension is not supported and will be removed\n  warn(msg)\n"
     ]
    }
   ],
   "source": [
    "excelFilePath = \"/Users/nagakurakenya/Dropbox (国立大学法人　東京学芸大学)/PER研究会/2021年度4月_標準調査問題_書式一式（問題・解答用紙含）/1_1_1_v7_物理基礎標準問題.xlsx\"\n",
    "\n",
    "df_sheet_all = pd.read_excel(excelFilePath, sheet_name=None, index_col=0)\n",
    "bk = pd.ExcelFile(excelFilePath)"
   ]
  },
  {
   "cell_type": "code",
   "execution_count": 146,
   "metadata": {},
   "outputs": [
    {
     "output_type": "stream",
     "name": "stdout",
     "text": [
      "削除前198\n削除後162\n"
     ]
    },
    {
     "output_type": "execute_result",
     "data": {
      "text/plain": [
       "通番    学校名   実施年度   実施対象 位置付け 実施月  年      組  番号 男1女2  正解選択肢  ...  2  4  4  2  \\\n",
       "1    都立大泉  2021年  高校2年生   事前  4月  2  2組／B組  21    2  入力しない  ...  5  4  1  2   \n",
       "2    都立大泉  2021年  高校2年生   事前  4月  2  2組／B組  18    1  入力しない  ...  2  5  4  2   \n",
       "3    都立大泉  2021年  高校2年生   事前  4月  2  2組／B組   6    1  入力しない  ...  2  4  2  2   \n",
       "4    都立大泉  2021年  高校2年生   事前  4月  2  2組／B組  17    1  入力しない  ...  5  4  3  2   \n",
       "5    都立大泉  2021年  高校2年生   事前  4月  2  2組／B組  25    1  入力しない  ...  3  4  1  2   \n",
       "..    ...    ...    ...  ...  .. ..    ...  ..  ...    ...  ... .. .. .. ..   \n",
       "194  都立大泉  2021年  高校2年生   事前  4月  2  3組／C組  12    2  入力しない  ...  3  5  4  2   \n",
       "195  都立大泉  2021年  高校2年生   事前  4月  2  1組／A組  20    2  入力しない  ...  3  4  3  5   \n",
       "196  都立大泉  2021年  高校2年生   事前  4月  2  5組／E組  34    2  入力しない  ...  5  4  4  2   \n",
       "197  都立大泉  2021年  高校2年生   事前  4月  2  1組／A組  31    1  入力しない  ...  2  4  1  2   \n",
       "198  都立大泉  2021年  高校2年生   事前  4月  2  3組／C組  23    2  入力しない  ...  1  4  1  2   \n",
       "\n",
       "通番   2  5  1  2  1  2  \n",
       "1    4  3  2  1  3  2  \n",
       "2    3  3  3  3  3  2  \n",
       "3    4  1  4  3  2  4  \n",
       "4    4  3  3  4  3  2  \n",
       "5    3  2  4  1  2  2  \n",
       "..  .. .. .. .. .. ..  \n",
       "194  2  5  5  3  3  2  \n",
       "195  3  3  2  4  3  2  \n",
       "196  3  5  2  1  2  3  \n",
       "197  3  1  2  1  3  2  \n",
       "198  3  5  1  2  1  4  \n",
       "\n",
       "[198 rows x 40 columns]"
      ],
      "text/html": "<div>\n<style scoped>\n    .dataframe tbody tr th:only-of-type {\n        vertical-align: middle;\n    }\n\n    .dataframe tbody tr th {\n        vertical-align: top;\n    }\n\n    .dataframe thead th {\n        text-align: right;\n    }\n</style>\n<table border=\"1\" class=\"dataframe\">\n  <thead>\n    <tr style=\"text-align: right;\">\n      <th>通番</th>\n      <th>学校名</th>\n      <th>実施年度</th>\n      <th>実施対象</th>\n      <th>位置付け</th>\n      <th>実施月</th>\n      <th>年</th>\n      <th>組</th>\n      <th>番号</th>\n      <th>男1女2</th>\n      <th>正解選択肢</th>\n      <th>...</th>\n      <th>2</th>\n      <th>4</th>\n      <th>4</th>\n      <th>2</th>\n      <th>2</th>\n      <th>5</th>\n      <th>1</th>\n      <th>2</th>\n      <th>1</th>\n      <th>2</th>\n    </tr>\n  </thead>\n  <tbody>\n    <tr>\n      <th>1</th>\n      <td>都立大泉</td>\n      <td>2021年</td>\n      <td>高校2年生</td>\n      <td>事前</td>\n      <td>4月</td>\n      <td>2</td>\n      <td>2組／B組</td>\n      <td>21</td>\n      <td>2</td>\n      <td>入力しない</td>\n      <td>...</td>\n      <td>5</td>\n      <td>4</td>\n      <td>1</td>\n      <td>2</td>\n      <td>4</td>\n      <td>3</td>\n      <td>2</td>\n      <td>1</td>\n      <td>3</td>\n      <td>2</td>\n    </tr>\n    <tr>\n      <th>2</th>\n      <td>都立大泉</td>\n      <td>2021年</td>\n      <td>高校2年生</td>\n      <td>事前</td>\n      <td>4月</td>\n      <td>2</td>\n      <td>2組／B組</td>\n      <td>18</td>\n      <td>1</td>\n      <td>入力しない</td>\n      <td>...</td>\n      <td>2</td>\n      <td>5</td>\n      <td>4</td>\n      <td>2</td>\n      <td>3</td>\n      <td>3</td>\n      <td>3</td>\n      <td>3</td>\n      <td>3</td>\n      <td>2</td>\n    </tr>\n    <tr>\n      <th>3</th>\n      <td>都立大泉</td>\n      <td>2021年</td>\n      <td>高校2年生</td>\n      <td>事前</td>\n      <td>4月</td>\n      <td>2</td>\n      <td>2組／B組</td>\n      <td>6</td>\n      <td>1</td>\n      <td>入力しない</td>\n      <td>...</td>\n      <td>2</td>\n      <td>4</td>\n      <td>2</td>\n      <td>2</td>\n      <td>4</td>\n      <td>1</td>\n      <td>4</td>\n      <td>3</td>\n      <td>2</td>\n      <td>4</td>\n    </tr>\n    <tr>\n      <th>4</th>\n      <td>都立大泉</td>\n      <td>2021年</td>\n      <td>高校2年生</td>\n      <td>事前</td>\n      <td>4月</td>\n      <td>2</td>\n      <td>2組／B組</td>\n      <td>17</td>\n      <td>1</td>\n      <td>入力しない</td>\n      <td>...</td>\n      <td>5</td>\n      <td>4</td>\n      <td>3</td>\n      <td>2</td>\n      <td>4</td>\n      <td>3</td>\n      <td>3</td>\n      <td>4</td>\n      <td>3</td>\n      <td>2</td>\n    </tr>\n    <tr>\n      <th>5</th>\n      <td>都立大泉</td>\n      <td>2021年</td>\n      <td>高校2年生</td>\n      <td>事前</td>\n      <td>4月</td>\n      <td>2</td>\n      <td>2組／B組</td>\n      <td>25</td>\n      <td>1</td>\n      <td>入力しない</td>\n      <td>...</td>\n      <td>3</td>\n      <td>4</td>\n      <td>1</td>\n      <td>2</td>\n      <td>3</td>\n      <td>2</td>\n      <td>4</td>\n      <td>1</td>\n      <td>2</td>\n      <td>2</td>\n    </tr>\n    <tr>\n      <th>...</th>\n      <td>...</td>\n      <td>...</td>\n      <td>...</td>\n      <td>...</td>\n      <td>...</td>\n      <td>...</td>\n      <td>...</td>\n      <td>...</td>\n      <td>...</td>\n      <td>...</td>\n      <td>...</td>\n      <td>...</td>\n      <td>...</td>\n      <td>...</td>\n      <td>...</td>\n      <td>...</td>\n      <td>...</td>\n      <td>...</td>\n      <td>...</td>\n      <td>...</td>\n      <td>...</td>\n    </tr>\n    <tr>\n      <th>194</th>\n      <td>都立大泉</td>\n      <td>2021年</td>\n      <td>高校2年生</td>\n      <td>事前</td>\n      <td>4月</td>\n      <td>2</td>\n      <td>3組／C組</td>\n      <td>12</td>\n      <td>2</td>\n      <td>入力しない</td>\n      <td>...</td>\n      <td>3</td>\n      <td>5</td>\n      <td>4</td>\n      <td>2</td>\n      <td>2</td>\n      <td>5</td>\n      <td>5</td>\n      <td>3</td>\n      <td>3</td>\n      <td>2</td>\n    </tr>\n    <tr>\n      <th>195</th>\n      <td>都立大泉</td>\n      <td>2021年</td>\n      <td>高校2年生</td>\n      <td>事前</td>\n      <td>4月</td>\n      <td>2</td>\n      <td>1組／A組</td>\n      <td>20</td>\n      <td>2</td>\n      <td>入力しない</td>\n      <td>...</td>\n      <td>3</td>\n      <td>4</td>\n      <td>3</td>\n      <td>5</td>\n      <td>3</td>\n      <td>3</td>\n      <td>2</td>\n      <td>4</td>\n      <td>3</td>\n      <td>2</td>\n    </tr>\n    <tr>\n      <th>196</th>\n      <td>都立大泉</td>\n      <td>2021年</td>\n      <td>高校2年生</td>\n      <td>事前</td>\n      <td>4月</td>\n      <td>2</td>\n      <td>5組／E組</td>\n      <td>34</td>\n      <td>2</td>\n      <td>入力しない</td>\n      <td>...</td>\n      <td>5</td>\n      <td>4</td>\n      <td>4</td>\n      <td>2</td>\n      <td>3</td>\n      <td>5</td>\n      <td>2</td>\n      <td>1</td>\n      <td>2</td>\n      <td>3</td>\n    </tr>\n    <tr>\n      <th>197</th>\n      <td>都立大泉</td>\n      <td>2021年</td>\n      <td>高校2年生</td>\n      <td>事前</td>\n      <td>4月</td>\n      <td>2</td>\n      <td>1組／A組</td>\n      <td>31</td>\n      <td>1</td>\n      <td>入力しない</td>\n      <td>...</td>\n      <td>2</td>\n      <td>4</td>\n      <td>1</td>\n      <td>2</td>\n      <td>3</td>\n      <td>1</td>\n      <td>2</td>\n      <td>1</td>\n      <td>3</td>\n      <td>2</td>\n    </tr>\n    <tr>\n      <th>198</th>\n      <td>都立大泉</td>\n      <td>2021年</td>\n      <td>高校2年生</td>\n      <td>事前</td>\n      <td>4月</td>\n      <td>2</td>\n      <td>3組／C組</td>\n      <td>23</td>\n      <td>2</td>\n      <td>入力しない</td>\n      <td>...</td>\n      <td>1</td>\n      <td>4</td>\n      <td>1</td>\n      <td>2</td>\n      <td>3</td>\n      <td>5</td>\n      <td>1</td>\n      <td>2</td>\n      <td>1</td>\n      <td>4</td>\n    </tr>\n  </tbody>\n</table>\n<p>198 rows × 40 columns</p>\n</div>"
     },
     "metadata": {},
     "execution_count": 146
    }
   ],
   "source": [
    "sheetNum = 9\n",
    "\n",
    "## 指定したシートをデータにする\n",
    "df_sheet_all[bk.sheet_names[sheetNum]] =  df_sheet_all[bk.sheet_names[sheetNum]].fillna(99) ##NaNを99に \n",
    "df_sheet_all[bk.sheet_names[sheetNum]].columns = df_sheet_all[bk.sheet_names[sheetNum]].iloc[13] ##行名を指定\n",
    "\n",
    "yyyy = df_sheet_all[bk.sheet_names[sheetNum]].iat[6, 4]\n",
    "mm = df_sheet_all[bk.sheet_names[sheetNum]].iat[7, 4]\n",
    "period = df_sheet_all[bk.sheet_names[sheetNum]].iat[8, 4]\n",
    "grade = df_sheet_all[bk.sheet_names[sheetNum]].iat[9, 4]\n",
    "\n",
    "dfTmp = df_sheet_all[bk.sheet_names[sheetNum]].drop(df_sheet_all[bk.sheet_names[sheetNum]].index[range(0,14)])\n",
    "dfTmp =  dfTmp.drop(99,axis=1) \n",
    "dfTmp.insert(0,'実施月' ,mm)\n",
    "dfTmp.insert(0,'位置付け' ,period)\n",
    "dfTmp.insert(0,'実施対象' ,grade)\n",
    "dfTmp.insert(0,'実施年度' ,yyyy)\n",
    "dfTmp.insert(0,'学校名' ,bk.sheet_names[sheetNum] )\n",
    "print(\"削除前\" + str(len(dfTmp)))\n",
    "print(\"削除後\" + str(len(dfTmp.drop_duplicates())))\n",
    "dfTmp"
   ]
  },
  {
   "cell_type": "code",
   "execution_count": 170,
   "metadata": {},
   "outputs": [
    {
     "output_type": "stream",
     "name": "stderr",
     "text": [
      "/usr/local/lib/python3.9/site-packages/openpyxl/worksheet/_reader.py:312: UserWarning: Data Validation extension is not supported and will be removed\n",
      "  warn(msg)\n",
      "筑駒の重複削除前： 75\n",
      "筑駒の重複削除前： 75\n",
      "----\n",
      "中大附属の重複削除前： 84\n",
      "中大附属の重複削除前： 84\n",
      "----\n",
      "与野の重複削除前： 86\n",
      "与野の重複削除前： 75\n",
      "----\n",
      "法政国際の重複削除前： 301\n",
      "法政国際の重複削除前： 301\n",
      "----\n",
      "金沢大学附属の重複削除前： 121\n",
      "金沢大学附属の重複削除前： 121\n",
      "----\n",
      "長岡大手の重複削除前： 44\n",
      "長岡大手の重複削除前： 44\n",
      "----\n",
      "学芸附高の重複削除前： 113\n",
      "学芸附高の重複削除前： 113\n",
      "----\n",
      "品川女子の重複削除前： 254\n",
      "品川女子の重複削除前： 191\n",
      "----\n",
      "都立調布南の重複削除前： 141\n",
      "都立調布南の重複削除前： 109\n",
      "----\n",
      "都立大泉の重複削除前： 198\n",
      "都立大泉の重複削除前： 162\n",
      "----\n",
      "市川学園の重複削除前： 338\n",
      "市川学園の重複削除前： 332\n",
      "----\n",
      "明星の重複削除前： 78\n",
      "明星の重複削除前： 60\n",
      "----\n",
      "高知西の重複削除前： 21\n",
      "高知西の重複削除前： 21\n",
      "----\n",
      "神大附属の重複削除前： 320\n",
      "神大附属の重複削除前： 207\n",
      "----\n",
      "横須賀大津の重複削除前： 320\n",
      "横須賀大津の重複削除前： 268\n",
      "----\n"
     ]
    }
   ],
   "source": [
    "\n",
    "#全データを結合する\n",
    "import matplotlib.pyplot as plt\n",
    "%matplotlib inline\n",
    "import pandas as pd\n",
    "\n",
    "\n",
    "excelFilePath = \"/Users/nagakurakenya/Dropbox (国立大学法人　東京学芸大学)/PER研究会/2021年度4月_標準調査問題_書式一式（問題・解答用紙含）/1_1_1_v7_物理基礎標準問題.xlsx\"\n",
    "\n",
    "df_sheet_all = pd.read_excel(excelFilePath, sheet_name=None, index_col=0)\n",
    "bk = pd.ExcelFile(excelFilePath)\n",
    "\n",
    "for sheetNum in range(0,len(bk.sheet_names)-2):\n",
    "    ## 指定したシートをデータにする\n",
    "    df_sheet_all[bk.sheet_names[sheetNum]] =  df_sheet_all[bk.sheet_names[sheetNum]].fillna(99) ##NaNを99に \n",
    "    df_sheet_all[bk.sheet_names[sheetNum]].columns = df_sheet_all[bk.sheet_names[sheetNum]].iloc[13] ##行名を指定\n",
    "\n",
    "    school = bk.sheet_names[sheetNum] \n",
    "    yyyy = df_sheet_all[bk.sheet_names[sheetNum]].iat[6, 4]\n",
    "    mm = df_sheet_all[bk.sheet_names[sheetNum]].iat[7, 4]\n",
    "    period = df_sheet_all[bk.sheet_names[sheetNum]].iat[8, 4]\n",
    "    grade = df_sheet_all[bk.sheet_names[sheetNum]].iat[9, 4]\n",
    "\n",
    "    dfTmp = df_sheet_all[bk.sheet_names[sheetNum]].drop(df_sheet_all[bk.sheet_names[sheetNum]].index[range(0,14)])\n",
    "    dfTmp =  dfTmp.drop(99,axis=1) \n",
    "    dfTmp.insert(0,'実施月' ,mm)\n",
    "    dfTmp.insert(0,'位置付け' ,period)\n",
    "    dfTmp.insert(0,'実施対象' ,grade)\n",
    "    dfTmp.insert(0,'実施年度' ,yyyy)\n",
    "    dfTmp.insert(0,'学校名' ,school)\n",
    "    print(school + \"の重複削除前： \" + str(len(dfTmp)))\n",
    "    print(school + \"の重複削除前： \" + str(len(dfTmp.drop_duplicates())))\n",
    "    \n",
    "    if sheetNum == 0:\n",
    "        dfAll = dfTmp.copy()\n",
    "    else:\n",
    "        dfAll = pd.concat([dfAll,dfTmp])\n",
    "    print(\"----\")\n",
    "\n",
    "dfAll = dfAll[dfAll['実施年度'] != 99]\n",
    "dfAll.to_csv(\"sample.csv\")\n",
    "\n"
   ]
  }
 ]
}